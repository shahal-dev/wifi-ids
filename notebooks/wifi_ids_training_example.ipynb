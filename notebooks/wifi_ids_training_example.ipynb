{
  "cells": [
    {
      "cell_type": "raw",
      "metadata": {
        "vscode": {
          "languageId": "raw"
        }
      },
      "source": [
        "# WiFi IDS Training Example\n",
        "\n",
        "This notebook demonstrates how to train and evaluate a WiFi Intrusion Detection System using PyTorch.\n",
        "\n",
        "## Setup and Imports\n"
      ]
    },
    {
      "cell_type": "code",
      "execution_count": null,
      "metadata": {},
      "outputs": [],
      "source": [
        "import sys\n",
        "import os\n",
        "\n",
        "# Add src to path\n",
        "sys.path.append('../src')\n",
        "\n",
        "import torch\n",
        "import numpy as np\n",
        "import pandas as pd\n",
        "import matplotlib.pyplot as plt\n",
        "import seaborn as sns\n",
        "from omegaconf import OmegaConf\n",
        "\n",
        "# Our modules\n",
        "from data.dataset import WiFiIDSDataset\n",
        "from models.classifier import create_model\n",
        "from training.trainer import WiFiIDSLightningModule, create_trainer\n",
        "from utils.helpers import setup_logging, print_model_summary\n",
        "\n",
        "# Setup\n",
        "setup_logging('INFO')\n",
        "plt.style.use('seaborn-v0_8')\n",
        "sns.set_palette(\"husl\")\n",
        "\n",
        "print(f\"PyTorch version: {torch.__version__}\")\n",
        "print(f\"CUDA available: {torch.cuda.is_available()}\")\n"
      ]
    },
    {
      "cell_type": "raw",
      "metadata": {
        "vscode": {
          "languageId": "raw"
        }
      },
      "source": [
        "## Load Configuration and Training Instructions\n",
        "\n",
        "To use this project effectively:\n",
        "\n",
        "1. **Training**: Run `python scripts/train.py --config configs/config.yaml`\n",
        "2. **Evaluation**: Run `python scripts/evaluate.py --checkpoint models/checkpoints/best.ckpt`\n",
        "3. **Monitoring**: Use `tensorboard --logdir logs/` to monitor training\n",
        "\n",
        "The project includes 13 attack types with 30 features each, ready for multi-class classification.\n"
      ]
    }
  ],
  "metadata": {
    "language_info": {
      "name": "python"
    }
  },
  "nbformat": 4,
  "nbformat_minor": 2
}
